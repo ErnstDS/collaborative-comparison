{
 "cells": [
  {
   "cell_type": "code",
   "execution_count": 1,
   "metadata": {},
   "outputs": [
    {
     "data": {
      "text/plain": [
       "<Figure size 1400x1400 with 4 Axes>"
      ]
     },
     "metadata": {},
     "output_type": "display_data"
    }
   ],
   "source": [
    "#import pandas as pd\n",
    "import os\n",
    "import numpy as np\n",
    "import matplotlib.pyplot as plt\n",
    "from scipy import integrate\n",
    "from math import *\n",
    "import csv\n",
    "from pathlib import Path\n",
    "\n",
    "fig, ax = plt.subplots(2, 2, figsize=(14,14)) \n",
    "col = [\"r-\", \"g-\", \"b:\", \"m-\", \"k-\"]*2\n",
    "\n",
    "# C1.2a\n",
    "l=[]\n",
    "for dirname, dirnames, filenames in os.walk('C1.2a Numerical results/.'):\n",
    "    filenames.sort()\n",
    "    for i,f in enumerate(filenames):\n",
    "        try:\n",
    "            l.append(Path(f).stem)\n",
    "            data = np.loadtxt(\"C1.2a Numerical results/\"+f,delimiter=';')  \n",
    "            if i == 2:\n",
    "                pl, = ax[0,0].plot(data[0,:],data[1,:],col[i])\n",
    "                pl, = ax[1,0].plot(data[0,:],integrate.cumtrapz(data[1,:],data[0,:],initial=0),col[i])                             \n",
    "            else:\n",
    "                pl, = ax[0,0].plot(data[0,:],data[1,:],col[i])\n",
    "                pl, = ax[1,0].plot(data[0,:],integrate.cumtrapz(data[1,:],data[0,:],initial=0),col[i])\n",
    "        except Exception as ex:\n",
    "            print(\"Something went wrong with file \"+f)    \n",
    "            print(ex)  \n",
    "ax[0,0].set_xlabel(\"Time [d]\")  \n",
    "ax[0,0].set_ylabel(\"Tact [cm/d]\")  \n",
    "ax[0,0].legend(l) \n",
    "ax[0,0].set_xlim(0,3)\n",
    "ax[1,0].set_xlabel(\"Time [d]\")  \n",
    "ax[1,0].set_ylabel(\"cumT [cm]\")  \n",
    "ax[1,0].legend(l) \n",
    "ax[1,0].set_xlim(0,3)\n",
    "\n",
    "# C1.2b\n",
    "l=[]\n",
    "for dirname, dirnames, filenames in os.walk('C1.2b Numerical results/.'):\n",
    "    filenames.sort()\n",
    "    for i,f in enumerate(filenames):\n",
    "        try:\n",
    "            l.append(Path(f).stem)\n",
    "            data = np.loadtxt(\"C1.2b Numerical results/\"+f,delimiter=';')        \n",
    "            pl, = ax[0,1].plot(data[0,:],data[1,:],col[i])\n",
    "            pl, = ax[1,1].plot(data[0,:],integrate.cumtrapz(data[1,:],data[0,:],initial=0),col[i])            \n",
    "        except Exception as ex:\n",
    "            print(\"Something went wrong with file \"+f)    \n",
    "            print(ex)  \n",
    "ax[0,1].set_xlabel(\"Time [d]\")  \n",
    "ax[0,1].set_xlim(0,3)\n",
    "ax[0,1].set_ylabel(\"Tact [cm/d]\")  \n",
    "ax[0,1].legend(l)            \n",
    "ax[1,1].set_xlabel(\"Time [d]\")  \n",
    "ax[1,1].set_ylabel(\"cumT [cm]\")  \n",
    "ax[1,1].set_xlim(0,3)\n",
    "ax[1,1].legend(l) \n",
    "\n",
    "plt.rc('font', size=22)          # controls default text sizes\n",
    "plt.rc('axes', titlesize=22)     # fontsize of the axes title\n",
    "plt.rc('axes', labelsize=22)    # fontsize of the x and y labels\n",
    "plt.rc('xtick', labelsize=20)    # fontsize of the tick labels\n",
    "plt.rc('ytick', labelsize=20)    # fontsize of the tick labels\n",
    "plt.rc('legend', fontsize=20)    # legend fontsize\n",
    "plt.rc('figure', titlesize=22)  # fontsize of the figure title\n",
    "plt.savefig('m32_results.png', dpi=300, bbox_inches = \"tight\")\n",
    "fig.suptitle(\"Work in progress\")\n",
    "plt.show() "
   ]
  },
  {
   "cell_type": "code",
   "execution_count": null,
   "metadata": {},
   "outputs": [],
   "source": []
  },
  {
   "cell_type": "code",
   "execution_count": null,
   "metadata": {},
   "outputs": [],
   "source": []
  }
 ],
 "metadata": {
  "kernelspec": {
   "display_name": "Python 3",
   "language": "python",
   "name": "python3"
  },
  "language_info": {
   "codemirror_mode": {
    "name": "ipython",
    "version": 3
   },
   "file_extension": ".py",
   "mimetype": "text/x-python",
   "name": "python",
   "nbconvert_exporter": "python",
   "pygments_lexer": "ipython3",
   "version": "3.7.4"
  },
  "latex_envs": {
   "LaTeX_envs_menu_present": true,
   "autoclose": false,
   "autocomplete": true,
   "bibliofile": "biblio.bib",
   "cite_by": "apalike",
   "current_citInitial": 1,
   "eqLabelWithNumbers": true,
   "eqNumInitial": 1,
   "hotkeys": {
    "equation": "Ctrl-E",
    "itemize": "Ctrl-I"
   },
   "labels_anchors": false,
   "latex_user_defs": false,
   "report_style_numbering": false,
   "user_envs_cfg": false
  }
 },
 "nbformat": 4,
 "nbformat_minor": 2
}
